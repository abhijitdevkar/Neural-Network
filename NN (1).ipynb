{
  "nbformat": 4,
  "nbformat_minor": 0,
  "metadata": {
    "kernelspec": {
      "display_name": "Python 3",
      "language": "python",
      "name": "python3"
    },
    "language_info": {
      "codemirror_mode": {
        "name": "ipython",
        "version": 3
      },
      "file_extension": ".py",
      "mimetype": "text/x-python",
      "name": "python",
      "nbconvert_exporter": "python",
      "pygments_lexer": "ipython3",
      "version": "3.8.5"
    },
    "colab": {
      "name": "NN",
      "provenance": [],
      "collapsed_sections": []
    }
  },
  "cells": [
    {
      "cell_type": "code",
      "metadata": {
        "id": "N6zgOMUKeran"
      },
      "source": [
        "# Importing the necessary packages\n",
        "import pandas as pd\n",
        "import numpy\n",
        "from sklearn.model_selection import GridSearchCV, KFold\n",
        "from keras.models import Sequential\n",
        "from keras.layers import Dense\n",
        "from keras.wrappers.scikit_learn import KerasClassifier\n",
        "from keras.optimizers import Adam\n",
        "from keras.layers import Dropout"
      ],
      "execution_count": null,
      "outputs": []
    },
    {
      "cell_type": "code",
      "metadata": {
        "colab": {
          "base_uri": "https://localhost:8080/",
          "height": 215
        },
        "id": "v-JxOKjMerap",
        "outputId": "5d568277-d7e0-4dbe-a673-ff38f370370f"
      },
      "source": [
        "# Importing the dataset\n",
        "df = pd.read_csv('forestfires.csv')\n",
        "df.head()"
      ],
      "execution_count": null,
      "outputs": [
        {
          "output_type": "execute_result",
          "data": {
            "text/html": [
              "<div>\n",
              "<style scoped>\n",
              "    .dataframe tbody tr th:only-of-type {\n",
              "        vertical-align: middle;\n",
              "    }\n",
              "\n",
              "    .dataframe tbody tr th {\n",
              "        vertical-align: top;\n",
              "    }\n",
              "\n",
              "    .dataframe thead th {\n",
              "        text-align: right;\n",
              "    }\n",
              "</style>\n",
              "<table border=\"1\" class=\"dataframe\">\n",
              "  <thead>\n",
              "    <tr style=\"text-align: right;\">\n",
              "      <th></th>\n",
              "      <th>month</th>\n",
              "      <th>day</th>\n",
              "      <th>FFMC</th>\n",
              "      <th>DMC</th>\n",
              "      <th>DC</th>\n",
              "      <th>ISI</th>\n",
              "      <th>temp</th>\n",
              "      <th>RH</th>\n",
              "      <th>wind</th>\n",
              "      <th>rain</th>\n",
              "      <th>area</th>\n",
              "      <th>dayfri</th>\n",
              "      <th>daymon</th>\n",
              "      <th>daysat</th>\n",
              "      <th>daysun</th>\n",
              "      <th>daythu</th>\n",
              "      <th>daytue</th>\n",
              "      <th>daywed</th>\n",
              "      <th>monthapr</th>\n",
              "      <th>monthaug</th>\n",
              "      <th>monthdec</th>\n",
              "      <th>monthfeb</th>\n",
              "      <th>monthjan</th>\n",
              "      <th>monthjul</th>\n",
              "      <th>monthjun</th>\n",
              "      <th>monthmar</th>\n",
              "      <th>monthmay</th>\n",
              "      <th>monthnov</th>\n",
              "      <th>monthoct</th>\n",
              "      <th>monthsep</th>\n",
              "      <th>size_category</th>\n",
              "    </tr>\n",
              "  </thead>\n",
              "  <tbody>\n",
              "    <tr>\n",
              "      <th>0</th>\n",
              "      <td>mar</td>\n",
              "      <td>fri</td>\n",
              "      <td>86.2</td>\n",
              "      <td>26.2</td>\n",
              "      <td>94.3</td>\n",
              "      <td>5.1</td>\n",
              "      <td>8.2</td>\n",
              "      <td>51</td>\n",
              "      <td>6.7</td>\n",
              "      <td>0.0</td>\n",
              "      <td>0.0</td>\n",
              "      <td>1</td>\n",
              "      <td>0</td>\n",
              "      <td>0</td>\n",
              "      <td>0</td>\n",
              "      <td>0</td>\n",
              "      <td>0</td>\n",
              "      <td>0</td>\n",
              "      <td>0</td>\n",
              "      <td>0</td>\n",
              "      <td>0</td>\n",
              "      <td>0</td>\n",
              "      <td>0</td>\n",
              "      <td>0</td>\n",
              "      <td>0</td>\n",
              "      <td>1</td>\n",
              "      <td>0</td>\n",
              "      <td>0</td>\n",
              "      <td>0</td>\n",
              "      <td>0</td>\n",
              "      <td>small</td>\n",
              "    </tr>\n",
              "    <tr>\n",
              "      <th>1</th>\n",
              "      <td>oct</td>\n",
              "      <td>tue</td>\n",
              "      <td>90.6</td>\n",
              "      <td>35.4</td>\n",
              "      <td>669.1</td>\n",
              "      <td>6.7</td>\n",
              "      <td>18.0</td>\n",
              "      <td>33</td>\n",
              "      <td>0.9</td>\n",
              "      <td>0.0</td>\n",
              "      <td>0.0</td>\n",
              "      <td>0</td>\n",
              "      <td>0</td>\n",
              "      <td>0</td>\n",
              "      <td>0</td>\n",
              "      <td>0</td>\n",
              "      <td>1</td>\n",
              "      <td>0</td>\n",
              "      <td>0</td>\n",
              "      <td>0</td>\n",
              "      <td>0</td>\n",
              "      <td>0</td>\n",
              "      <td>0</td>\n",
              "      <td>0</td>\n",
              "      <td>0</td>\n",
              "      <td>0</td>\n",
              "      <td>0</td>\n",
              "      <td>0</td>\n",
              "      <td>1</td>\n",
              "      <td>0</td>\n",
              "      <td>small</td>\n",
              "    </tr>\n",
              "    <tr>\n",
              "      <th>2</th>\n",
              "      <td>oct</td>\n",
              "      <td>sat</td>\n",
              "      <td>90.6</td>\n",
              "      <td>43.7</td>\n",
              "      <td>686.9</td>\n",
              "      <td>6.7</td>\n",
              "      <td>14.6</td>\n",
              "      <td>33</td>\n",
              "      <td>1.3</td>\n",
              "      <td>0.0</td>\n",
              "      <td>0.0</td>\n",
              "      <td>0</td>\n",
              "      <td>0</td>\n",
              "      <td>1</td>\n",
              "      <td>0</td>\n",
              "      <td>0</td>\n",
              "      <td>0</td>\n",
              "      <td>0</td>\n",
              "      <td>0</td>\n",
              "      <td>0</td>\n",
              "      <td>0</td>\n",
              "      <td>0</td>\n",
              "      <td>0</td>\n",
              "      <td>0</td>\n",
              "      <td>0</td>\n",
              "      <td>0</td>\n",
              "      <td>0</td>\n",
              "      <td>0</td>\n",
              "      <td>1</td>\n",
              "      <td>0</td>\n",
              "      <td>small</td>\n",
              "    </tr>\n",
              "    <tr>\n",
              "      <th>3</th>\n",
              "      <td>mar</td>\n",
              "      <td>fri</td>\n",
              "      <td>91.7</td>\n",
              "      <td>33.3</td>\n",
              "      <td>77.5</td>\n",
              "      <td>9.0</td>\n",
              "      <td>8.3</td>\n",
              "      <td>97</td>\n",
              "      <td>4.0</td>\n",
              "      <td>0.2</td>\n",
              "      <td>0.0</td>\n",
              "      <td>1</td>\n",
              "      <td>0</td>\n",
              "      <td>0</td>\n",
              "      <td>0</td>\n",
              "      <td>0</td>\n",
              "      <td>0</td>\n",
              "      <td>0</td>\n",
              "      <td>0</td>\n",
              "      <td>0</td>\n",
              "      <td>0</td>\n",
              "      <td>0</td>\n",
              "      <td>0</td>\n",
              "      <td>0</td>\n",
              "      <td>0</td>\n",
              "      <td>1</td>\n",
              "      <td>0</td>\n",
              "      <td>0</td>\n",
              "      <td>0</td>\n",
              "      <td>0</td>\n",
              "      <td>small</td>\n",
              "    </tr>\n",
              "    <tr>\n",
              "      <th>4</th>\n",
              "      <td>mar</td>\n",
              "      <td>sun</td>\n",
              "      <td>89.3</td>\n",
              "      <td>51.3</td>\n",
              "      <td>102.2</td>\n",
              "      <td>9.6</td>\n",
              "      <td>11.4</td>\n",
              "      <td>99</td>\n",
              "      <td>1.8</td>\n",
              "      <td>0.0</td>\n",
              "      <td>0.0</td>\n",
              "      <td>0</td>\n",
              "      <td>0</td>\n",
              "      <td>0</td>\n",
              "      <td>1</td>\n",
              "      <td>0</td>\n",
              "      <td>0</td>\n",
              "      <td>0</td>\n",
              "      <td>0</td>\n",
              "      <td>0</td>\n",
              "      <td>0</td>\n",
              "      <td>0</td>\n",
              "      <td>0</td>\n",
              "      <td>0</td>\n",
              "      <td>0</td>\n",
              "      <td>1</td>\n",
              "      <td>0</td>\n",
              "      <td>0</td>\n",
              "      <td>0</td>\n",
              "      <td>0</td>\n",
              "      <td>small</td>\n",
              "    </tr>\n",
              "  </tbody>\n",
              "</table>\n",
              "</div>"
            ],
            "text/plain": [
              "  month  day  FFMC   DMC  ...  monthnov  monthoct  monthsep  size_category\n",
              "0   mar  fri  86.2  26.2  ...         0         0         0          small\n",
              "1   oct  tue  90.6  35.4  ...         0         1         0          small\n",
              "2   oct  sat  90.6  43.7  ...         0         1         0          small\n",
              "3   mar  fri  91.7  33.3  ...         0         0         0          small\n",
              "4   mar  sun  89.3  51.3  ...         0         0         0          small\n",
              "\n",
              "[5 rows x 31 columns]"
            ]
          },
          "metadata": {
            "tags": []
          },
          "execution_count": 2
        }
      ]
    },
    {
      "cell_type": "code",
      "metadata": {
        "id": "nACD7Gc9eraq"
      },
      "source": [
        "#EDA\n",
        "df1=df.drop([\"monthfeb\",\"monthjan\",\"monthmar\",\"monthapr\",\"monthmay\",\"monthjun\",\"monthjul\",\"monthaug\",\"monthsep\",\"monthoct\",\"monthnov\",\"monthdec\"],axis=1)\n",
        "df2=df1.drop([\"daysat\",\"daysun\",\"daythu\",\"daytue\",\"daywed\",\"daymon\",\"dayfri\"],axis=1)"
      ],
      "execution_count": null,
      "outputs": []
    },
    {
      "cell_type": "code",
      "metadata": {
        "id": "AO88Cujherar"
      },
      "source": [
        "from sklearn.preprocessing import LabelEncoder\n",
        "labelencoder = LabelEncoder()\n",
        "df2.iloc[:,0] = labelencoder.fit_transform(df2.iloc[:,0])\n",
        "df2.iloc[:,1] = labelencoder.fit_transform(df2.iloc[:,1])\n",
        "df2.iloc[:,-1]= labelencoder.fit_transform(df2.iloc[:,-1])"
      ],
      "execution_count": null,
      "outputs": []
    },
    {
      "cell_type": "code",
      "metadata": {
        "colab": {
          "base_uri": "https://localhost:8080/",
          "height": 195
        },
        "id": "3Em21uQgerar",
        "outputId": "ecebf05a-6ca5-427e-b2eb-efe13915d642"
      },
      "source": [
        "df2.head()"
      ],
      "execution_count": null,
      "outputs": [
        {
          "output_type": "execute_result",
          "data": {
            "text/html": [
              "<div>\n",
              "<style scoped>\n",
              "    .dataframe tbody tr th:only-of-type {\n",
              "        vertical-align: middle;\n",
              "    }\n",
              "\n",
              "    .dataframe tbody tr th {\n",
              "        vertical-align: top;\n",
              "    }\n",
              "\n",
              "    .dataframe thead th {\n",
              "        text-align: right;\n",
              "    }\n",
              "</style>\n",
              "<table border=\"1\" class=\"dataframe\">\n",
              "  <thead>\n",
              "    <tr style=\"text-align: right;\">\n",
              "      <th></th>\n",
              "      <th>month</th>\n",
              "      <th>day</th>\n",
              "      <th>FFMC</th>\n",
              "      <th>DMC</th>\n",
              "      <th>DC</th>\n",
              "      <th>ISI</th>\n",
              "      <th>temp</th>\n",
              "      <th>RH</th>\n",
              "      <th>wind</th>\n",
              "      <th>rain</th>\n",
              "      <th>area</th>\n",
              "      <th>size_category</th>\n",
              "    </tr>\n",
              "  </thead>\n",
              "  <tbody>\n",
              "    <tr>\n",
              "      <th>0</th>\n",
              "      <td>7</td>\n",
              "      <td>0</td>\n",
              "      <td>86.2</td>\n",
              "      <td>26.2</td>\n",
              "      <td>94.3</td>\n",
              "      <td>5.1</td>\n",
              "      <td>8.2</td>\n",
              "      <td>51</td>\n",
              "      <td>6.7</td>\n",
              "      <td>0.0</td>\n",
              "      <td>0.0</td>\n",
              "      <td>1</td>\n",
              "    </tr>\n",
              "    <tr>\n",
              "      <th>1</th>\n",
              "      <td>10</td>\n",
              "      <td>5</td>\n",
              "      <td>90.6</td>\n",
              "      <td>35.4</td>\n",
              "      <td>669.1</td>\n",
              "      <td>6.7</td>\n",
              "      <td>18.0</td>\n",
              "      <td>33</td>\n",
              "      <td>0.9</td>\n",
              "      <td>0.0</td>\n",
              "      <td>0.0</td>\n",
              "      <td>1</td>\n",
              "    </tr>\n",
              "    <tr>\n",
              "      <th>2</th>\n",
              "      <td>10</td>\n",
              "      <td>2</td>\n",
              "      <td>90.6</td>\n",
              "      <td>43.7</td>\n",
              "      <td>686.9</td>\n",
              "      <td>6.7</td>\n",
              "      <td>14.6</td>\n",
              "      <td>33</td>\n",
              "      <td>1.3</td>\n",
              "      <td>0.0</td>\n",
              "      <td>0.0</td>\n",
              "      <td>1</td>\n",
              "    </tr>\n",
              "    <tr>\n",
              "      <th>3</th>\n",
              "      <td>7</td>\n",
              "      <td>0</td>\n",
              "      <td>91.7</td>\n",
              "      <td>33.3</td>\n",
              "      <td>77.5</td>\n",
              "      <td>9.0</td>\n",
              "      <td>8.3</td>\n",
              "      <td>97</td>\n",
              "      <td>4.0</td>\n",
              "      <td>0.2</td>\n",
              "      <td>0.0</td>\n",
              "      <td>1</td>\n",
              "    </tr>\n",
              "    <tr>\n",
              "      <th>4</th>\n",
              "      <td>7</td>\n",
              "      <td>3</td>\n",
              "      <td>89.3</td>\n",
              "      <td>51.3</td>\n",
              "      <td>102.2</td>\n",
              "      <td>9.6</td>\n",
              "      <td>11.4</td>\n",
              "      <td>99</td>\n",
              "      <td>1.8</td>\n",
              "      <td>0.0</td>\n",
              "      <td>0.0</td>\n",
              "      <td>1</td>\n",
              "    </tr>\n",
              "  </tbody>\n",
              "</table>\n",
              "</div>"
            ],
            "text/plain": [
              "   month  day  FFMC   DMC     DC  ...  RH  wind  rain  area  size_category\n",
              "0      7    0  86.2  26.2   94.3  ...  51   6.7   0.0   0.0              1\n",
              "1     10    5  90.6  35.4  669.1  ...  33   0.9   0.0   0.0              1\n",
              "2     10    2  90.6  43.7  686.9  ...  33   1.3   0.0   0.0              1\n",
              "3      7    0  91.7  33.3   77.5  ...  97   4.0   0.2   0.0              1\n",
              "4      7    3  89.3  51.3  102.2  ...  99   1.8   0.0   0.0              1\n",
              "\n",
              "[5 rows x 12 columns]"
            ]
          },
          "metadata": {
            "tags": []
          },
          "execution_count": 5
        }
      ]
    },
    {
      "cell_type": "code",
      "metadata": {
        "colab": {
          "base_uri": "https://localhost:8080/"
        },
        "id": "U66KQVcuerar",
        "outputId": "74719689-70aa-43cd-9b93-3a6053c56454"
      },
      "source": [
        "df2.info()"
      ],
      "execution_count": null,
      "outputs": [
        {
          "output_type": "stream",
          "text": [
            "<class 'pandas.core.frame.DataFrame'>\n",
            "RangeIndex: 517 entries, 0 to 516\n",
            "Data columns (total 12 columns):\n",
            " #   Column         Non-Null Count  Dtype  \n",
            "---  ------         --------------  -----  \n",
            " 0   month          517 non-null    int64  \n",
            " 1   day            517 non-null    int64  \n",
            " 2   FFMC           517 non-null    float64\n",
            " 3   DMC            517 non-null    float64\n",
            " 4   DC             517 non-null    float64\n",
            " 5   ISI            517 non-null    float64\n",
            " 6   temp           517 non-null    float64\n",
            " 7   RH             517 non-null    int64  \n",
            " 8   wind           517 non-null    float64\n",
            " 9   rain           517 non-null    float64\n",
            " 10  area           517 non-null    float64\n",
            " 11  size_category  517 non-null    int64  \n",
            "dtypes: float64(8), int64(4)\n",
            "memory usage: 48.6 KB\n"
          ],
          "name": "stdout"
        }
      ]
    },
    {
      "cell_type": "code",
      "metadata": {
        "colab": {
          "base_uri": "https://localhost:8080/",
          "height": 402
        },
        "id": "my5eECcneras",
        "outputId": "df7e34f3-9232-45a4-b2a9-9225050ca14a"
      },
      "source": [
        "X = df2.drop('size_category',axis=1)\n",
        "X"
      ],
      "execution_count": null,
      "outputs": [
        {
          "output_type": "execute_result",
          "data": {
            "text/html": [
              "<div>\n",
              "<style scoped>\n",
              "    .dataframe tbody tr th:only-of-type {\n",
              "        vertical-align: middle;\n",
              "    }\n",
              "\n",
              "    .dataframe tbody tr th {\n",
              "        vertical-align: top;\n",
              "    }\n",
              "\n",
              "    .dataframe thead th {\n",
              "        text-align: right;\n",
              "    }\n",
              "</style>\n",
              "<table border=\"1\" class=\"dataframe\">\n",
              "  <thead>\n",
              "    <tr style=\"text-align: right;\">\n",
              "      <th></th>\n",
              "      <th>month</th>\n",
              "      <th>day</th>\n",
              "      <th>FFMC</th>\n",
              "      <th>DMC</th>\n",
              "      <th>DC</th>\n",
              "      <th>ISI</th>\n",
              "      <th>temp</th>\n",
              "      <th>RH</th>\n",
              "      <th>wind</th>\n",
              "      <th>rain</th>\n",
              "      <th>area</th>\n",
              "    </tr>\n",
              "  </thead>\n",
              "  <tbody>\n",
              "    <tr>\n",
              "      <th>0</th>\n",
              "      <td>7</td>\n",
              "      <td>0</td>\n",
              "      <td>86.2</td>\n",
              "      <td>26.2</td>\n",
              "      <td>94.3</td>\n",
              "      <td>5.1</td>\n",
              "      <td>8.2</td>\n",
              "      <td>51</td>\n",
              "      <td>6.7</td>\n",
              "      <td>0.0</td>\n",
              "      <td>0.00</td>\n",
              "    </tr>\n",
              "    <tr>\n",
              "      <th>1</th>\n",
              "      <td>10</td>\n",
              "      <td>5</td>\n",
              "      <td>90.6</td>\n",
              "      <td>35.4</td>\n",
              "      <td>669.1</td>\n",
              "      <td>6.7</td>\n",
              "      <td>18.0</td>\n",
              "      <td>33</td>\n",
              "      <td>0.9</td>\n",
              "      <td>0.0</td>\n",
              "      <td>0.00</td>\n",
              "    </tr>\n",
              "    <tr>\n",
              "      <th>2</th>\n",
              "      <td>10</td>\n",
              "      <td>2</td>\n",
              "      <td>90.6</td>\n",
              "      <td>43.7</td>\n",
              "      <td>686.9</td>\n",
              "      <td>6.7</td>\n",
              "      <td>14.6</td>\n",
              "      <td>33</td>\n",
              "      <td>1.3</td>\n",
              "      <td>0.0</td>\n",
              "      <td>0.00</td>\n",
              "    </tr>\n",
              "    <tr>\n",
              "      <th>3</th>\n",
              "      <td>7</td>\n",
              "      <td>0</td>\n",
              "      <td>91.7</td>\n",
              "      <td>33.3</td>\n",
              "      <td>77.5</td>\n",
              "      <td>9.0</td>\n",
              "      <td>8.3</td>\n",
              "      <td>97</td>\n",
              "      <td>4.0</td>\n",
              "      <td>0.2</td>\n",
              "      <td>0.00</td>\n",
              "    </tr>\n",
              "    <tr>\n",
              "      <th>4</th>\n",
              "      <td>7</td>\n",
              "      <td>3</td>\n",
              "      <td>89.3</td>\n",
              "      <td>51.3</td>\n",
              "      <td>102.2</td>\n",
              "      <td>9.6</td>\n",
              "      <td>11.4</td>\n",
              "      <td>99</td>\n",
              "      <td>1.8</td>\n",
              "      <td>0.0</td>\n",
              "      <td>0.00</td>\n",
              "    </tr>\n",
              "    <tr>\n",
              "      <th>...</th>\n",
              "      <td>...</td>\n",
              "      <td>...</td>\n",
              "      <td>...</td>\n",
              "      <td>...</td>\n",
              "      <td>...</td>\n",
              "      <td>...</td>\n",
              "      <td>...</td>\n",
              "      <td>...</td>\n",
              "      <td>...</td>\n",
              "      <td>...</td>\n",
              "      <td>...</td>\n",
              "    </tr>\n",
              "    <tr>\n",
              "      <th>512</th>\n",
              "      <td>1</td>\n",
              "      <td>3</td>\n",
              "      <td>81.6</td>\n",
              "      <td>56.7</td>\n",
              "      <td>665.6</td>\n",
              "      <td>1.9</td>\n",
              "      <td>27.8</td>\n",
              "      <td>32</td>\n",
              "      <td>2.7</td>\n",
              "      <td>0.0</td>\n",
              "      <td>6.44</td>\n",
              "    </tr>\n",
              "    <tr>\n",
              "      <th>513</th>\n",
              "      <td>1</td>\n",
              "      <td>3</td>\n",
              "      <td>81.6</td>\n",
              "      <td>56.7</td>\n",
              "      <td>665.6</td>\n",
              "      <td>1.9</td>\n",
              "      <td>21.9</td>\n",
              "      <td>71</td>\n",
              "      <td>5.8</td>\n",
              "      <td>0.0</td>\n",
              "      <td>54.29</td>\n",
              "    </tr>\n",
              "    <tr>\n",
              "      <th>514</th>\n",
              "      <td>1</td>\n",
              "      <td>3</td>\n",
              "      <td>81.6</td>\n",
              "      <td>56.7</td>\n",
              "      <td>665.6</td>\n",
              "      <td>1.9</td>\n",
              "      <td>21.2</td>\n",
              "      <td>70</td>\n",
              "      <td>6.7</td>\n",
              "      <td>0.0</td>\n",
              "      <td>11.16</td>\n",
              "    </tr>\n",
              "    <tr>\n",
              "      <th>515</th>\n",
              "      <td>1</td>\n",
              "      <td>2</td>\n",
              "      <td>94.4</td>\n",
              "      <td>146.0</td>\n",
              "      <td>614.7</td>\n",
              "      <td>11.3</td>\n",
              "      <td>25.6</td>\n",
              "      <td>42</td>\n",
              "      <td>4.0</td>\n",
              "      <td>0.0</td>\n",
              "      <td>0.00</td>\n",
              "    </tr>\n",
              "    <tr>\n",
              "      <th>516</th>\n",
              "      <td>9</td>\n",
              "      <td>5</td>\n",
              "      <td>79.5</td>\n",
              "      <td>3.0</td>\n",
              "      <td>106.7</td>\n",
              "      <td>1.1</td>\n",
              "      <td>11.8</td>\n",
              "      <td>31</td>\n",
              "      <td>4.5</td>\n",
              "      <td>0.0</td>\n",
              "      <td>0.00</td>\n",
              "    </tr>\n",
              "  </tbody>\n",
              "</table>\n",
              "<p>517 rows × 11 columns</p>\n",
              "</div>"
            ],
            "text/plain": [
              "     month  day  FFMC    DMC     DC   ISI  temp  RH  wind  rain   area\n",
              "0        7    0  86.2   26.2   94.3   5.1   8.2  51   6.7   0.0   0.00\n",
              "1       10    5  90.6   35.4  669.1   6.7  18.0  33   0.9   0.0   0.00\n",
              "2       10    2  90.6   43.7  686.9   6.7  14.6  33   1.3   0.0   0.00\n",
              "3        7    0  91.7   33.3   77.5   9.0   8.3  97   4.0   0.2   0.00\n",
              "4        7    3  89.3   51.3  102.2   9.6  11.4  99   1.8   0.0   0.00\n",
              "..     ...  ...   ...    ...    ...   ...   ...  ..   ...   ...    ...\n",
              "512      1    3  81.6   56.7  665.6   1.9  27.8  32   2.7   0.0   6.44\n",
              "513      1    3  81.6   56.7  665.6   1.9  21.9  71   5.8   0.0  54.29\n",
              "514      1    3  81.6   56.7  665.6   1.9  21.2  70   6.7   0.0  11.16\n",
              "515      1    2  94.4  146.0  614.7  11.3  25.6  42   4.0   0.0   0.00\n",
              "516      9    5  79.5    3.0  106.7   1.1  11.8  31   4.5   0.0   0.00\n",
              "\n",
              "[517 rows x 11 columns]"
            ]
          },
          "metadata": {
            "tags": []
          },
          "execution_count": 7
        }
      ]
    },
    {
      "cell_type": "code",
      "metadata": {
        "id": "nIpUP1Bleras"
      },
      "source": [
        "Y= df2['size_category']"
      ],
      "execution_count": null,
      "outputs": []
    },
    {
      "cell_type": "code",
      "metadata": {
        "colab": {
          "base_uri": "https://localhost:8080/"
        },
        "id": "Em7IBvQEerat",
        "outputId": "02a00b8f-26ae-43f1-b568-97537e2b6c6e"
      },
      "source": [
        "#standardization\n",
        "from sklearn.preprocessing import StandardScaler\n",
        "stscaler = StandardScaler().fit(X)\n",
        "X_std = stscaler.transform(X)\n",
        "X_std = pd.DataFrame(X_std)\n",
        "X_std.columns=X.columns\n",
        "print(X_std.head())"
      ],
      "execution_count": null,
      "outputs": [
        {
          "output_type": "stream",
          "text": [
            "      month       day      FFMC  ...      wind      rain     area\n",
            "0  0.284222 -1.423121 -0.805959  ...  1.498614 -0.073268 -0.20202\n",
            "1  0.970871  1.176715 -0.008102  ... -1.741756 -0.073268 -0.20202\n",
            "2  0.970871 -0.383187 -0.008102  ... -1.518282 -0.073268 -0.20202\n",
            "3  0.284222 -1.423121  0.191362  ... -0.009834  0.603155 -0.20202\n",
            "4  0.284222  0.136781 -0.243833  ... -1.238940 -0.073268 -0.20202\n",
            "\n",
            "[5 rows x 11 columns]\n"
          ],
          "name": "stdout"
        }
      ]
    },
    {
      "cell_type": "code",
      "metadata": {
        "id": "SCxYskSIerat"
      },
      "source": [
        "# Part 2 - Now let's make the ANN!\n",
        "\n",
        "# Importing the Keras libraries and packages\n",
        "import tensorflow.keras\n",
        "from tensorflow.keras.models import Sequential\n",
        "from tensorflow.keras.layers import Dense\n",
        "from tensorflow.keras.layers import Dropout"
      ],
      "execution_count": null,
      "outputs": []
    },
    {
      "cell_type": "code",
      "metadata": {
        "id": "mhK9wzjFerat"
      },
      "source": [
        "# Splitting the dataset into the Training set and Test set\n",
        "from sklearn.model_selection import train_test_split\n",
        "X_train, X_test, y_train, y_test = train_test_split(X_std, Y, test_size = 0.2, random_state = 0)"
      ],
      "execution_count": null,
      "outputs": []
    },
    {
      "cell_type": "code",
      "metadata": {
        "id": "clktLptjerau"
      },
      "source": [
        "# Initialising the ANN\n",
        "classifier = Sequential()\n",
        "\n",
        "# Adding the input layer and the first hidden layer\n",
        "classifier.add(Dense(units = 10,kernel_initializer='he_uniform',activation='relu',input_dim = 11))\n",
        "\n",
        "# Adding the second hidden layer\n",
        "classifier.add(Dense(units = 10, kernel_initializer = 'he_uniform',activation='relu'))\n",
        "# Adding the output layer\n",
        "classifier.add(Dense(units = 1, kernel_initializer = 'glorot_uniform', activation = 'sigmoid'))\n",
        "\n",
        "# Compiling the ANN\n",
        "classifier.compile(optimizer = 'adam', loss = 'binary_crossentropy', metrics = ['accuracy'])"
      ],
      "execution_count": null,
      "outputs": []
    },
    {
      "cell_type": "code",
      "metadata": {
        "colab": {
          "base_uri": "https://localhost:8080/"
        },
        "id": "LYe1dhpIerau",
        "outputId": "f1818c4a-686c-4fff-c947-13306ebc5088"
      },
      "source": [
        "# Fitting the ANN to the Training set\n",
        "from keras.callbacks import History \n",
        "history = History()\n",
        "model_history=classifier.fit(X_train,y_train,validation_split=0.33, batch_size = 10,epochs = 50,callbacks = [history])"
      ],
      "execution_count": null,
      "outputs": [
        {
          "output_type": "stream",
          "text": [
            "Epoch 1/50\n",
            "28/28 [==============================] - 1s 19ms/step - loss: 1.1517 - accuracy: 0.2766 - val_loss: 0.9926 - val_accuracy: 0.2847\n",
            "Epoch 2/50\n",
            "28/28 [==============================] - 0s 3ms/step - loss: 0.9569 - accuracy: 0.3343 - val_loss: 0.8652 - val_accuracy: 0.3212\n",
            "Epoch 3/50\n",
            "28/28 [==============================] - 0s 3ms/step - loss: 0.8565 - accuracy: 0.4389 - val_loss: 0.7761 - val_accuracy: 0.3869\n",
            "Epoch 4/50\n",
            "28/28 [==============================] - 0s 3ms/step - loss: 0.7355 - accuracy: 0.4729 - val_loss: 0.7249 - val_accuracy: 0.4818\n",
            "Epoch 5/50\n",
            "28/28 [==============================] - 0s 3ms/step - loss: 0.6801 - accuracy: 0.5550 - val_loss: 0.6862 - val_accuracy: 0.5547\n",
            "Epoch 6/50\n",
            "28/28 [==============================] - 0s 3ms/step - loss: 0.6496 - accuracy: 0.6547 - val_loss: 0.6613 - val_accuracy: 0.6715\n",
            "Epoch 7/50\n",
            "28/28 [==============================] - 0s 3ms/step - loss: 0.6254 - accuracy: 0.7071 - val_loss: 0.6437 - val_accuracy: 0.7080\n",
            "Epoch 8/50\n",
            "28/28 [==============================] - 0s 3ms/step - loss: 0.5797 - accuracy: 0.7286 - val_loss: 0.6297 - val_accuracy: 0.7299\n",
            "Epoch 9/50\n",
            "28/28 [==============================] - 0s 3ms/step - loss: 0.5704 - accuracy: 0.7772 - val_loss: 0.6183 - val_accuracy: 0.7372\n",
            "Epoch 10/50\n",
            "28/28 [==============================] - 0s 3ms/step - loss: 0.5728 - accuracy: 0.7463 - val_loss: 0.6098 - val_accuracy: 0.7445\n",
            "Epoch 11/50\n",
            "28/28 [==============================] - 0s 3ms/step - loss: 0.5455 - accuracy: 0.7715 - val_loss: 0.6009 - val_accuracy: 0.7372\n",
            "Epoch 12/50\n",
            "28/28 [==============================] - 0s 3ms/step - loss: 0.5554 - accuracy: 0.7266 - val_loss: 0.5949 - val_accuracy: 0.7372\n",
            "Epoch 13/50\n",
            "28/28 [==============================] - 0s 3ms/step - loss: 0.5668 - accuracy: 0.7303 - val_loss: 0.5869 - val_accuracy: 0.7445\n",
            "Epoch 14/50\n",
            "28/28 [==============================] - 0s 3ms/step - loss: 0.5220 - accuracy: 0.7779 - val_loss: 0.5817 - val_accuracy: 0.7445\n",
            "Epoch 15/50\n",
            "28/28 [==============================] - 0s 3ms/step - loss: 0.5340 - accuracy: 0.7624 - val_loss: 0.5766 - val_accuracy: 0.7445\n",
            "Epoch 16/50\n",
            "28/28 [==============================] - 0s 3ms/step - loss: 0.4966 - accuracy: 0.7676 - val_loss: 0.5700 - val_accuracy: 0.7445\n",
            "Epoch 17/50\n",
            "28/28 [==============================] - 0s 3ms/step - loss: 0.4928 - accuracy: 0.8019 - val_loss: 0.5664 - val_accuracy: 0.7445\n",
            "Epoch 18/50\n",
            "28/28 [==============================] - 0s 3ms/step - loss: 0.5002 - accuracy: 0.7772 - val_loss: 0.5645 - val_accuracy: 0.7518\n",
            "Epoch 19/50\n",
            "28/28 [==============================] - 0s 3ms/step - loss: 0.4861 - accuracy: 0.8105 - val_loss: 0.5608 - val_accuracy: 0.7518\n",
            "Epoch 20/50\n",
            "28/28 [==============================] - 0s 3ms/step - loss: 0.4797 - accuracy: 0.7766 - val_loss: 0.5559 - val_accuracy: 0.7591\n",
            "Epoch 21/50\n",
            "28/28 [==============================] - 0s 3ms/step - loss: 0.5018 - accuracy: 0.7616 - val_loss: 0.5534 - val_accuracy: 0.7591\n",
            "Epoch 22/50\n",
            "28/28 [==============================] - 0s 3ms/step - loss: 0.4820 - accuracy: 0.7853 - val_loss: 0.5496 - val_accuracy: 0.7591\n",
            "Epoch 23/50\n",
            "28/28 [==============================] - 0s 3ms/step - loss: 0.5040 - accuracy: 0.7493 - val_loss: 0.5459 - val_accuracy: 0.7591\n",
            "Epoch 24/50\n",
            "28/28 [==============================] - 0s 3ms/step - loss: 0.4664 - accuracy: 0.7972 - val_loss: 0.5451 - val_accuracy: 0.7591\n",
            "Epoch 25/50\n",
            "28/28 [==============================] - 0s 3ms/step - loss: 0.4400 - accuracy: 0.8028 - val_loss: 0.5428 - val_accuracy: 0.7591\n",
            "Epoch 26/50\n",
            "28/28 [==============================] - 0s 3ms/step - loss: 0.4606 - accuracy: 0.8065 - val_loss: 0.5382 - val_accuracy: 0.7591\n",
            "Epoch 27/50\n",
            "28/28 [==============================] - 0s 3ms/step - loss: 0.4637 - accuracy: 0.7801 - val_loss: 0.5345 - val_accuracy: 0.7591\n",
            "Epoch 28/50\n",
            "28/28 [==============================] - 0s 3ms/step - loss: 0.4551 - accuracy: 0.7734 - val_loss: 0.5298 - val_accuracy: 0.7591\n",
            "Epoch 29/50\n",
            "28/28 [==============================] - 0s 3ms/step - loss: 0.4659 - accuracy: 0.7787 - val_loss: 0.5296 - val_accuracy: 0.7591\n",
            "Epoch 30/50\n",
            "28/28 [==============================] - 0s 3ms/step - loss: 0.4745 - accuracy: 0.7670 - val_loss: 0.5273 - val_accuracy: 0.7591\n",
            "Epoch 31/50\n",
            "28/28 [==============================] - 0s 3ms/step - loss: 0.4561 - accuracy: 0.7798 - val_loss: 0.5225 - val_accuracy: 0.7591\n",
            "Epoch 32/50\n",
            "28/28 [==============================] - 0s 3ms/step - loss: 0.4326 - accuracy: 0.8189 - val_loss: 0.5221 - val_accuracy: 0.7591\n",
            "Epoch 33/50\n",
            "28/28 [==============================] - 0s 3ms/step - loss: 0.4564 - accuracy: 0.7836 - val_loss: 0.5172 - val_accuracy: 0.7591\n",
            "Epoch 34/50\n",
            "28/28 [==============================] - 0s 3ms/step - loss: 0.4372 - accuracy: 0.7955 - val_loss: 0.5169 - val_accuracy: 0.7591\n",
            "Epoch 35/50\n",
            "28/28 [==============================] - 0s 3ms/step - loss: 0.4185 - accuracy: 0.8081 - val_loss: 0.5155 - val_accuracy: 0.7737\n",
            "Epoch 36/50\n",
            "28/28 [==============================] - 0s 3ms/step - loss: 0.4175 - accuracy: 0.8177 - val_loss: 0.5085 - val_accuracy: 0.7737\n",
            "Epoch 37/50\n",
            "28/28 [==============================] - 0s 3ms/step - loss: 0.4112 - accuracy: 0.8185 - val_loss: 0.5040 - val_accuracy: 0.7810\n",
            "Epoch 38/50\n",
            "28/28 [==============================] - 0s 3ms/step - loss: 0.4903 - accuracy: 0.7714 - val_loss: 0.5008 - val_accuracy: 0.7810\n",
            "Epoch 39/50\n",
            "28/28 [==============================] - 0s 3ms/step - loss: 0.4163 - accuracy: 0.8317 - val_loss: 0.4971 - val_accuracy: 0.7810\n",
            "Epoch 40/50\n",
            "28/28 [==============================] - 0s 3ms/step - loss: 0.4398 - accuracy: 0.8182 - val_loss: 0.4982 - val_accuracy: 0.7810\n",
            "Epoch 41/50\n",
            "28/28 [==============================] - 0s 3ms/step - loss: 0.3980 - accuracy: 0.8479 - val_loss: 0.4900 - val_accuracy: 0.7810\n",
            "Epoch 42/50\n",
            "28/28 [==============================] - 0s 3ms/step - loss: 0.3899 - accuracy: 0.8375 - val_loss: 0.4885 - val_accuracy: 0.7883\n",
            "Epoch 43/50\n",
            "28/28 [==============================] - 0s 3ms/step - loss: 0.4074 - accuracy: 0.8127 - val_loss: 0.4844 - val_accuracy: 0.7810\n",
            "Epoch 44/50\n",
            "28/28 [==============================] - 0s 3ms/step - loss: 0.3847 - accuracy: 0.8407 - val_loss: 0.4807 - val_accuracy: 0.7883\n",
            "Epoch 45/50\n",
            "28/28 [==============================] - 0s 3ms/step - loss: 0.3840 - accuracy: 0.8271 - val_loss: 0.4767 - val_accuracy: 0.7883\n",
            "Epoch 46/50\n",
            "28/28 [==============================] - 0s 3ms/step - loss: 0.3855 - accuracy: 0.8286 - val_loss: 0.4694 - val_accuracy: 0.7883\n",
            "Epoch 47/50\n",
            "28/28 [==============================] - 0s 3ms/step - loss: 0.3878 - accuracy: 0.8351 - val_loss: 0.4681 - val_accuracy: 0.7956\n",
            "Epoch 48/50\n",
            "28/28 [==============================] - 0s 3ms/step - loss: 0.3334 - accuracy: 0.8636 - val_loss: 0.4688 - val_accuracy: 0.8029\n",
            "Epoch 49/50\n",
            "28/28 [==============================] - 0s 3ms/step - loss: 0.3856 - accuracy: 0.8450 - val_loss: 0.4560 - val_accuracy: 0.8175\n",
            "Epoch 50/50\n",
            "28/28 [==============================] - 0s 3ms/step - loss: 0.3600 - accuracy: 0.8558 - val_loss: 0.4569 - val_accuracy: 0.8175\n"
          ],
          "name": "stdout"
        }
      ]
    },
    {
      "cell_type": "code",
      "metadata": {
        "colab": {
          "base_uri": "https://localhost:8080/"
        },
        "id": "P3WVQCF3erau",
        "outputId": "70ea255a-ef52-466b-8aa1-44e8210f8432"
      },
      "source": [
        "model_history.history.keys()"
      ],
      "execution_count": null,
      "outputs": [
        {
          "output_type": "execute_result",
          "data": {
            "text/plain": [
              "dict_keys(['loss', 'accuracy', 'val_loss', 'val_accuracy'])"
            ]
          },
          "metadata": {
            "tags": []
          },
          "execution_count": 14
        }
      ]
    },
    {
      "cell_type": "code",
      "metadata": {
        "colab": {
          "base_uri": "https://localhost:8080/",
          "height": 295
        },
        "id": "K3cNVHfHgKY0",
        "outputId": "346480df-00ef-4895-a4be-6d0d95945243"
      },
      "source": [
        "import matplotlib.pyplot as plt\n",
        "# summarize history for accuracy\n",
        "plt.plot(model_history.history['accuracy'])\n",
        "plt.plot(model_history.history['val_accuracy'])\n",
        "plt.title('model accuracy')\n",
        "plt.ylabel('accuracy')\n",
        "plt.xlabel('epoch')\n",
        "plt.legend(['train', 'test'], loc='upper left')\n",
        "plt.show()"
      ],
      "execution_count": null,
      "outputs": [
        {
          "output_type": "display_data",
          "data": {
            "image/png": "[encoded data removed]",
            "text/plain": [
              "<Figure size 432x288 with 1 Axes>"
            ]
          },
          "metadata": {
            "tags": [],
            "needs_background": "light"
          }
        }
      ]
    },
    {
      "cell_type": "code",
      "metadata": {
        "colab": {
          "base_uri": "https://localhost:8080/",
          "height": 295
        },
        "id": "AOMAB23FgKbg",
        "outputId": "130291a1-27c5-4fef-82c9-c38d68d32e47"
      },
      "source": [
        "# summarize history for loss\n",
        "plt.plot(model_history.history['loss'])\n",
        "plt.plot(model_history.history['val_loss'])\n",
        "plt.title('model loss')\n",
        "plt.ylabel('loss')\n",
        "plt.xlabel('epoch')\n",
        "plt.legend(['train', 'test'], loc='upper left')\n",
        "plt.show()"
      ],
      "execution_count": null,
      "outputs": [
        {
          "output_type": "display_data",
          "data": {
            "image/png": "[encoded data removed]",
            "text/plain": [
              "<Figure size 432x288 with 1 Axes>"
            ]
          },
          "metadata": {
            "tags": [],
            "needs_background": "light"
          }
        }
      ]
    },
    {
      "cell_type": "code",
      "metadata": {
        "id": "IARYZSo3AyKU"
      },
      "source": [
        ""
      ],
      "execution_count": null,
      "outputs": []
    },
    {
      "cell_type": "code",
      "metadata": {
        "id": "iHaxl-fPgKe4"
      },
      "source": [
        "# Part 3 - Making the predictions and evaluating the model\n",
        "\n",
        "# Predicting the Test set results\n",
        "y_pred = classifier.predict(X_test)\n",
        "y_pred = (y_pred > 0.5)"
      ],
      "execution_count": null,
      "outputs": []
    },
    {
      "cell_type": "code",
      "metadata": {
        "colab": {
          "base_uri": "https://localhost:8080/"
        },
        "id": "V6kFziPZga-z",
        "outputId": "31363c27-27bd-44da-ca09-f05026d79854"
      },
      "source": [
        "# Making the Confusion Matrix\n",
        "from sklearn.metrics import confusion_matrix\n",
        "cm = confusion_matrix(y_test, y_pred)\n",
        "cm"
      ],
      "execution_count": null,
      "outputs": [
        {
          "output_type": "execute_result",
          "data": {
            "text/plain": [
              "array([[17, 13],\n",
              "       [ 1, 73]])"
            ]
          },
          "metadata": {
            "tags": []
          },
          "execution_count": 24
        }
      ]
    },
    {
      "cell_type": "code",
      "metadata": {
        "colab": {
          "base_uri": "https://localhost:8080/"
        },
        "id": "ikFRrXDNgbCN",
        "outputId": "39ae1796-f47c-4007-ba46-641c2c44fe66"
      },
      "source": [
        "# Calculate the Accuracy\n",
        "from sklearn.metrics import accuracy_score\n",
        "score=accuracy_score(y_pred,y_test)\n",
        "score"
      ],
      "execution_count": null,
      "outputs": [
        {
          "output_type": "execute_result",
          "data": {
            "text/plain": [
              "0.8653846153846154"
            ]
          },
          "metadata": {
            "tags": []
          },
          "execution_count": 25
        }
      ]
    },
    {
      "cell_type": "markdown",
      "metadata": {
        "id": "B4ntW3ct-jzc"
      },
      "source": [
        "### Alternative Method:"
      ]
    },
    {
      "cell_type": "code",
      "metadata": {
        "id": "_UZVWOWG-rjF"
      },
      "source": [
        "import pandas as pd\n",
        "import numpy as np\n",
        "df = pd.read_csv(forestfires.csv\")"
      ],
      "execution_count": null,
      "outputs": []
    },
    {
      "cell_type": "code",
      "metadata": {
        "id": "msiCLA19-rme"
      },
      "source": [
        "#EDA\n",
        "df.drop([\"month\",\"day\"],axis=1,inplace = True)\n",
        "df[\"size_category\"].value_counts()\n",
        "df.isnull().sum()\n",
        "df.describe()"
      ],
      "execution_count": null,
      "outputs": []
    },
    {
      "cell_type": "code",
      "metadata": {
        "id": "vqaWdbMm-rpu"
      },
      "source": [
        "#small = 0, large = 1\n",
        "df.loc[df[\"size_category\"]=='small','size_category']=0\n",
        "df.loc[df[\"size_category\"]=='large','size_category']=1\n",
        "df[\"size_category\"].value_counts()\n"
      ],
      "execution_count": null,
      "outputs": []
    },
    {
      "cell_type": "code",
      "metadata": {
        "id": "F6agv-km-rtC"
      },
      "source": [
        "#Normalization\n",
        "def norm_func(i):\n",
        "     x = (i-i.min())/(i.max()-i.min())\n",
        "     return (x)"
      ],
      "execution_count": null,
      "outputs": []
    },
    {
      "cell_type": "code",
      "metadata": {
        "id": "sviPgbYw-rwl"
      },
      "source": [
        "#separating predictors and target variables\n",
        "predictors = df.iloc[:,0:28]\n",
        "target = df.iloc[:,28]"
      ],
      "execution_count": null,
      "outputs": []
    },
    {
      "cell_type": "code",
      "metadata": {
        "id": "ploD324d-rzv"
      },
      "source": [
        "#normalizing the predictors\n",
        "predictors1 = norm_func(predictors)\n",
        "data = pd.concat([predictors1,target],axis=1)\n"
      ],
      "execution_count": null,
      "outputs": []
    },
    {
      "cell_type": "code",
      "metadata": {
        "id": "WTE30J2x-r29"
      },
      "source": [
        "#splitting the data into train and test datasetss\n",
        "from sklearn.model_selection import train_test_split\n",
        "x_train,x_test,y_train,y_test= train_test_split(predictors1,target, test_size=0.3,stratify = target)\n"
      ],
      "execution_count": null,
      "outputs": []
    },
    {
      "cell_type": "code",
      "metadata": {
        "id": "Cfj9L_wj-r6V"
      },
      "source": [
        "\n",
        "from keras.models import Sequential\n",
        "from keras.layers import Dense, Activation,Layer,Lambda\n",
        "def prep_model(hidden_dim):\n",
        "    model = Sequential()\n",
        "    for i in range(1,len(hidden_dim)-1):\n",
        "        if (i==1):\n",
        "            model.add(Dense(hidden_dim[i],input_dim=hidden_dim[0],activation=\"relu\"))\n",
        "        else:\n",
        "            model.add(Dense(hidden_dim[i],activation=\"relu\"))\n",
        "    model.add(Dense(hidden_dim[-1],kernel_initializer=\"normal\",activation=\"sigmoid\"))\n",
        "    model.compile(loss=\"binary_crossentropy\",optimizer = \"rmsprop\",metrics = [\"accuracy\"])\n",
        "    return model  "
      ],
      "execution_count": null,
      "outputs": []
    },
    {
      "cell_type": "code",
      "metadata": {
        "id": "O2mR5h9H-r9t"
      },
      "source": [
        "y_train = pd.DataFrame(y_train)"
      ],
      "execution_count": null,
      "outputs": []
    },
    {
      "cell_type": "code",
      "metadata": {
        "id": "N4PjSSNQ_3L3"
      },
      "source": [
        "#building the model\n",
        "first_model = prep_model([28,50,40,20,1])\n",
        "first_model.fit(np.array(x_train),np.array(y_train),epochs=500)\n",
        "pred_train = first_model.predict(np.array(x_train))"
      ],
      "execution_count": null,
      "outputs": []
    },
    {
      "cell_type": "code",
      "metadata": {
        "id": "rvVqe53W_3O2"
      },
      "source": [
        "#Converting the predicted values to series \n",
        "pred_train = pd.Series([i[0] for i in pred_train])"
      ],
      "execution_count": null,
      "outputs": []
    },
    {
      "cell_type": "code",
      "metadata": {
        "id": "_JocKc7i_3R9"
      },
      "source": [
        "#predictions of class for train data\n",
        "size = [\"small\",\"large\"]\n",
        "pred_train_class = pd.Series([\"small\"]*361)\n",
        "pred_train_class[[i>0.5 for i in pred_train]]= \"large\"\n"
      ],
      "execution_count": null,
      "outputs": []
    },
    {
      "cell_type": "code",
      "metadata": {
        "id": "X8w42JhO_3VU"
      },
      "source": [
        "train = pd.concat([x_train,y_train],axis=1)\n",
        "train[\"size_category\"].value_counts()"
      ],
      "execution_count": null,
      "outputs": []
    },
    {
      "cell_type": "code",
      "metadata": {
        "id": "UkbnHHEL_3m8"
      },
      "source": [
        "#metrics of success For training data\n",
        "from sklearn.metrics import confusion_matrix\n",
        "train[\"original_class\"] = \"small\"\n",
        "train.loc[train[\"size_category\"]==1,\"original_class\"] = \"large\"\n",
        "train.original_class.value_counts()\n",
        "confusion_matrix(pred_train_class,train[\"original_class\"])\n",
        "np.mean(pred_train_class==pd.Series(train[\"original_class\"]).reset_index(drop=True)) \n",
        "pd.crosstab(pred_train_class,pd.Series(train[\"original_class\"]).reset_index(drop=True))\n"
      ],
      "execution_count": null,
      "outputs": []
    },
    {
      "cell_type": "code",
      "metadata": {
        "id": "LC4hNzpv_3qV"
      },
      "source": [
        "#metrics of success For test data\n",
        "pred_test = first_model.predict(np.array(x_test))\n",
        "pred_test = pd.Series([i[0] for i in pred_test])\n",
        "pred_test_class = pd.Series([\"small\"]*156)\n",
        "pred_test_class[[i>0.5 for i in pred_test]] = \"large\"\n",
        "test =pd.concat([x_test,y_test],axis=1)\n",
        "test[\"original_class\"]=\"small\"\n",
        "test.loc[test[\"size_category\"]==1,\"original_class\"] = \"large\""
      ],
      "execution_count": null,
      "outputs": []
    },
    {
      "cell_type": "code",
      "metadata": {
        "id": "gr0Sh3BAASHH"
      },
      "source": [
        "test[\"original_class\"].value_counts()\n",
        "np.mean(pred_test_class==pd.Series(test[\"original_class\"]).reset_index(drop=True)) \n",
        "confusion_matrix(pred_test_class,test[\"original_class\"])\n",
        "pd.crosstab(pred_test_class,pd.Series(test[\"original_class\"]).reset_index(drop=True))"
      ],
      "execution_count": null,
      "outputs": []
    }
  ]
}